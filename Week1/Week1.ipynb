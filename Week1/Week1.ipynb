{
  "nbformat": 4,
  "nbformat_minor": 0,
  "metadata": {
    "colab": {
      "name": "Week1.ipynb",
      "provenance": []
    },
    "kernelspec": {
      "name": "python3",
      "display_name": "Python 3"
    },
    "language_info": {
      "name": "python"
    }
  },
  "cells": [
    {
      "cell_type": "markdown",
      "metadata": {
        "id": "0SAqhmBTlljm"
      },
      "source": [
        "# Week 1"
      ]
    },
    {
      "cell_type": "markdown",
      "metadata": {
        "id": "8rN8nuKql-Wr"
      },
      "source": [
        "## Objectives\n",
        "The Objectives of this week are mainly learning and getting familiar with python and important modules for the purpose of Data Analysis and Machine Learning. We shall cover three main modules in this week. \n",
        "1. **NumPy** : The computing module. It eases various common algebraic operations such as matrix/vector multiplication, inverse, powers, calculating mean, variance, etc. \n",
        "2. **Scipy** : This as the name suggests is the scientific module. It eases operations such as calculating derivatives of functions, scaling and normalization. \n",
        "3. **MatPlotLib** : The plotting module. This helps us to plot various types of plots, histograms, line charts and many more. "
      ]
    },
    {
      "cell_type": "markdown",
      "metadata": {
        "id": "pcp2aom4vWO6"
      },
      "source": [
        "## Problems"
      ]
    },
    {
      "cell_type": "markdown",
      "metadata": {
        "id": "m2_S1MkdWbV8"
      },
      "source": [
        "Consider a matrix of size 100x50. Initially all the entries in the matrix are 0's. Then **two random** entries in the matrix are set to 1. Now we perform the following steps till all the entries of the matrix have not become 1's : \n",
        "1. take **any four random positions** in the matrix and swap them with four other random positions in the matrix. \n",
        "2. Now for all the entries in the matrix which are 1's each of it's neighbors has a **0.25 probability** of becoming 1.\n",
        "\n",
        "Count the number of iterations it takes for the process to terminate.\n",
        "Plot a curve of number of 1's in a matrix vs the iteration count.  \n",
        "Repeat this process multiple times and check the number of iterations each time. \n",
        "Submission format : Download the python notebook as a python file. Download all the graphs mentioned here. Create a text file reporting the number of iterations for each run. Submit all this in a single directory. \n",
        "\n",
        "**Point to ponder** : Does this look like a very simple simulation to the COVID pandemic?\n",
        "\n",
        "\n",
        "\n",
        "\n"
      ]
    },
    {
      "cell_type": "markdown",
      "metadata": {
        "id": "utoOyChsfqqs"
      },
      "source": [
        "Consider the image 1.jpg given to you. Color this image:\n",
        "1. With the most frequently occuring pixel color\n",
        "2. With the least frequently occuring pixel color\n",
        "3. With the mean of all pixel colors\n",
        "**bold text**\n",
        "\n",
        "Submission Format : Submit all the three images in a single directory. "
      ]
    },
    {
      "cell_type": "code",
      "metadata": {
        "id": "UdNn5WCugIHp"
      },
      "source": [
        ""
      ],
      "execution_count": null,
      "outputs": []
    }
  ]
}